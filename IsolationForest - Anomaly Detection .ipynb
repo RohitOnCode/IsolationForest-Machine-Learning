{
 "cells": [
  {
   "cell_type": "code",
   "execution_count": null,
   "id": "744666db",
   "metadata": {},
   "outputs": [],
   "source": [
    "import numpy as np\n",
    "import pandas as pd\n",
    "from sklearn.ensemble import IsolationForest\n",
    "import seaborn as sns\n",
    "import matplotlib.pyplot as plt\n",
    "\n",
    "# Generate a synthetic dataset\n",
    "np.random.seed(42)\n",
    "# Feature 1: Normal distribution\n",
    "X1 = np.random.normal(0, 0.5, 100)\n",
    "# Feature 2: Uniform distribution\n",
    "X2 = np.random.uniform(-1, 1, 100)\n",
    "# Combine features into a dataset\n",
    "X = np.column_stack((X1, X2))\n",
    "\n",
    "# Create an Isolation Forest model\n",
    "iso_forest = IsolationForest(n_estimators=100, contamination=0.1, random_state=42)\n",
    "iso_forest.fit(X)\n",
    "\n",
    "# Predict anomalies\n",
    "scores = iso_forest.decision_function(X)\n",
    "anomalies = iso_forest.predict(X)\n",
    "\n",
    "# Convert to a DataFrame for easier plotting\n",
    "df = pd.DataFrame(X, columns=['Feature 1', 'Feature 2'])\n",
    "df['Anomaly'] = anomalies\n",
    "df['Scores'] = scores\n",
    "\n",
    "# Plot the data and the anomalies\n",
    "plt.figure(figsize=(10, 6))\n",
    "sns.scatterplot(data=df, x='Feature 1', y='Feature 2', hue='Anomaly', palette=['blue', 'red'])\n",
    "plt.title('Isolation Forest Anomaly Detection')\n",
    "plt.xlabel('Feature 1')\n",
    "plt.ylabel('Feature 2')\n",
    "plt.legend(title='Anomaly', loc='upper left')\n",
    "plt.show()\n"
   ]
  },
  {
   "cell_type": "code",
   "execution_count": null,
   "id": "aca92cfe",
   "metadata": {},
   "outputs": [],
   "source": []
  }
 ],
 "metadata": {
  "kernelspec": {
   "display_name": "Python 3 (ipykernel)",
   "language": "python",
   "name": "python3"
  },
  "language_info": {
   "codemirror_mode": {
    "name": "ipython",
    "version": 3
   },
   "file_extension": ".py",
   "mimetype": "text/x-python",
   "name": "python",
   "nbconvert_exporter": "python",
   "pygments_lexer": "ipython3",
   "version": "3.10.9"
  }
 },
 "nbformat": 4,
 "nbformat_minor": 5
}
